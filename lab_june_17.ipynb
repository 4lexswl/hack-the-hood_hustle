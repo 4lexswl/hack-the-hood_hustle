{
  "nbformat": 4,
  "nbformat_minor": 0,
  "metadata": {
    "colab": {
      "provenance": [],
      "authorship_tag": "ABX9TyMUpHR+sZ1TdBc/LVFwVhl7",
      "include_colab_link": true
    },
    "kernelspec": {
      "name": "python3",
      "display_name": "Python 3"
    },
    "language_info": {
      "name": "python"
    }
  },
  "cells": [
    {
      "cell_type": "markdown",
      "metadata": {
        "id": "view-in-github",
        "colab_type": "text"
      },
      "source": [
        "<a href=\"https://colab.research.google.com/github/4lexswl/hack-the-hood_hustle/blob/main/lab_june_17.ipynb\" target=\"_parent\"><img src=\"https://colab.research.google.com/assets/colab-badge.svg\" alt=\"Open In Colab\"/></a>"
      ]
    },
    {
      "cell_type": "markdown",
      "source": [
        "# Lab Jun. 17\n",
        "\n",
        "Intro to Pseudocode"
      ],
      "metadata": {
        "id": "DgZk7x3rwLKw"
      }
    },
    {
      "cell_type": "markdown",
      "source": [
        "# The rules to define variables\n",
        "\n",
        "1) Must start with a Letter or _Underscore\n",
        "\n",
        "2) Consists of letters, numbers, and underscores But it will not starts with a Number\n",
        "\n",
        "3) Variable names are case sensitive"
      ],
      "metadata": {
        "id": "19fS1TTG0Qcf"
      }
    },
    {
      "cell_type": "code",
      "source": [
        "car = \"Mercedes\"\n",
        "Car = \"Audi\""
      ],
      "metadata": {
        "id": "Bw3i64kC01OM"
      },
      "execution_count": 2,
      "outputs": []
    },
    {
      "cell_type": "code",
      "source": [
        "car"
      ],
      "metadata": {
        "colab": {
          "base_uri": "https://localhost:8080/",
          "height": 35
        },
        "id": "71p-h6zH08k-",
        "outputId": "fb035c21-16d1-4a21-c1f2-e93b1bdee02b"
      },
      "execution_count": 3,
      "outputs": [
        {
          "output_type": "execute_result",
          "data": {
            "text/plain": [
              "'Mercedes'"
            ],
            "application/vnd.google.colaboratory.intrinsic+json": {
              "type": "string"
            }
          },
          "metadata": {},
          "execution_count": 3
        }
      ]
    },
    {
      "cell_type": "code",
      "source": [
        "print(Car)"
      ],
      "metadata": {
        "colab": {
          "base_uri": "https://localhost:8080/"
        },
        "id": "jPSpVCjR0_n7",
        "outputId": "543afb0f-a5e6-4ce9-9cf4-dd9f4086b354"
      },
      "execution_count": 4,
      "outputs": [
        {
          "output_type": "stream",
          "name": "stdout",
          "text": [
            "Audi\n"
          ]
        }
      ]
    },
    {
      "cell_type": "markdown",
      "source": [
        "### Psuedo code for my application\n",
        "\n",
        "I want to write a program that takes user input and prints it back to the screen.\n",
        "\n",
        "`First_name` the user's first name\n",
        "\n",
        "`Last_Name` the user's last name\n",
        "\n",
        "`Age` the user's age\n",
        "\n",
        "`Fav_Colour` the user's favourite colour\n",
        "\n",
        "`Fav_Sport` the user's favourite sport\n",
        "\n",
        "`Fav_Team` the user's favourite team\n",
        "\n",
        "use a 'built-in' process to take user's data.\n",
        "\n",
        "use a 'built-in' process to display user's data."
      ],
      "metadata": {
        "id": "vySJUi8h1C3K"
      }
    },
    {
      "cell_type": "markdown",
      "source": [
        "First_name = 'John'\n",
        "\n",
        "Last_Name = 'Connor'\n",
        "\n",
        "Age = 23\n",
        "\n",
        "Fav_Colour = 'Gray'\n",
        "\n",
        "Fav_Sport = 'Soccer'\n",
        "\n",
        "Fav_Team = 'Man U'"
      ],
      "metadata": {
        "id": "MMI5YHTt3qwU"
      }
    },
    {
      "cell_type": "markdown",
      "source": [],
      "metadata": {
        "id": "0irmYxrE35Uj"
      }
    },
    {
      "cell_type": "code",
      "source": [
        "First_name = input('What is your first name?')"
      ],
      "metadata": {
        "colab": {
          "base_uri": "https://localhost:8080/"
        },
        "id": "AW3dwj0e36i5",
        "outputId": "5e8c2f89-7537-4782-e966-0ff137e0953f"
      },
      "execution_count": 5,
      "outputs": [
        {
          "name": "stdout",
          "output_type": "stream",
          "text": [
            "What is your first name?Skibidi\n"
          ]
        }
      ]
    },
    {
      "cell_type": "code",
      "source": [
        "print(First_name)"
      ],
      "metadata": {
        "colab": {
          "base_uri": "https://localhost:8080/"
        },
        "id": "jUsr0SJL4A1d",
        "outputId": "33d03eb9-0e9d-485d-e453-92f96ba0f093"
      },
      "execution_count": 6,
      "outputs": [
        {
          "output_type": "stream",
          "name": "stdout",
          "text": [
            "Skibidi\n"
          ]
        }
      ]
    },
    {
      "cell_type": "code",
      "source": [
        "First_name = input('What is your first name? ')\n",
        "# ask user input first name\n",
        "\n",
        "Last_Name = input('What is your last name? ')\n",
        "# input last name\n",
        "\n",
        "Age = input('What is your age? ')\n",
        "# input age\n",
        "\n",
        "Fav_Colour = input('What is your favourite colour? ')\n",
        "# input fav] color\n",
        "\n",
        "Fav_Sport = input('What is your favourite sport? ')\n",
        "# input fav sport\n",
        "\n",
        "Fav_Team = input('What is your favourite team? ')\n",
        "# input fav team"
      ],
      "metadata": {
        "colab": {
          "base_uri": "https://localhost:8080/"
        },
        "id": "3VVlYSUa4IUl",
        "outputId": "b68b0532-f068-436f-86df-8fc2e93fb52b"
      },
      "execution_count": 9,
      "outputs": [
        {
          "name": "stdout",
          "output_type": "stream",
          "text": [
            "What is your first name? Period\n",
            "What is your last name? Pooh\n",
            "What is your age? 18\n",
            "What is your favourite colour? Red\n",
            "What is your favourite sport? Fútbol\n",
            "What is your favourite team? Rocket\n"
          ]
        }
      ]
    },
    {
      "cell_type": "code",
      "source": [
        "print(f\"User first name is, {First_name}, last name is, {Last_Name}, age is, {Age},\\\n",
        " favourite colour is, {Fav_Colour}, favourite sport is, {Fav_Sport}, favourite team is, {Fav_Team}\")\n",
        "# Sexy brackets define inserted variables."
      ],
      "metadata": {
        "id": "5rS6Le3A5S4X"
      },
      "execution_count": null,
      "outputs": []
    },
    {
      "cell_type": "markdown",
      "source": [],
      "metadata": {
        "id": "v63WvZqi009P"
      }
    }
  ]
}